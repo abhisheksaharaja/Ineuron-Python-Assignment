{
 "cells": [
  {
   "cell_type": "markdown",
   "metadata": {},
   "source": [
    "# 1.1"
   ]
  },
  {
   "cell_type": "code",
   "execution_count": 1,
   "metadata": {},
   "outputs": [
    {
     "name": "stdout",
     "output_type": "stream",
     "text": [
      "Enter length of Triangle side: 6\n",
      "Enter length of Triangle side: 4\n",
      "Enter length of Triangle side: 5\n",
      "\n",
      "Area: 9.921567416492215\n"
     ]
    }
   ],
   "source": [
    "class Parent:\n",
    "    def side_input(self):\n",
    "        self.a=int(input('Enter length of Triangle side: '))\n",
    "        self.b=int(input('Enter length of Triangle side: '))\n",
    "        self.c=int(input('Enter length of Triangle side: '))\n",
    "class Child(Parent):\n",
    "    def calculate_area(self):\n",
    "        s=(self.a+self.b+self.c)/2\n",
    "        area=(s*(s-self.a)*(s-self.b)*(s-self.c))**0.5\n",
    "        print('\\nArea: {}'.format(area))\n",
    "\n",
    "obj=Child()\n",
    "obj.side_input()\n",
    "obj.calculate_area()"
   ]
  },
  {
   "cell_type": "code",
   "execution_count": null,
   "metadata": {},
   "outputs": [],
   "source": []
  },
  {
   "cell_type": "code",
   "execution_count": null,
   "metadata": {},
   "outputs": [],
   "source": []
  },
  {
   "cell_type": "markdown",
   "metadata": {},
   "source": [
    "# 1.2"
   ]
  },
  {
   "cell_type": "code",
   "execution_count": 2,
   "metadata": {},
   "outputs": [],
   "source": [
    "def filter_long_words(lt,n):\n",
    "    lt1=[]\n",
    "    for i in lt:\n",
    "        if(len(i)>n):\n",
    "            lt1.append(i)\n",
    "    return lt1"
   ]
  },
  {
   "cell_type": "code",
   "execution_count": 3,
   "metadata": {},
   "outputs": [
    {
     "data": {
      "text/plain": [
       "['BBBBBB',\n",
       " 'DDDDDDD',\n",
       " 'DFRTGG',\n",
       " 'SASDFGGH',\n",
       " 'QASDFGT',\n",
       " 'DFGHGFDG',\n",
       " 'QWEFFGF',\n",
       " 'WEFRGCFVGB']"
      ]
     },
     "execution_count": 3,
     "metadata": {},
     "output_type": "execute_result"
    }
   ],
   "source": [
    "lt1=['AAA','BBBBBB','CC','DDDDDDD','RRRRR','DFRTGG','SASDFGGH','RDFGT','QASDFGT','DFGHGFDG','QWEFFGF','WEFRGCFVGB']\n",
    "n=5\n",
    "res=filter_long_words(lt1,n)\n",
    "res"
   ]
  },
  {
   "cell_type": "code",
   "execution_count": null,
   "metadata": {},
   "outputs": [],
   "source": []
  },
  {
   "cell_type": "code",
   "execution_count": null,
   "metadata": {},
   "outputs": [],
   "source": []
  },
  {
   "cell_type": "code",
   "execution_count": null,
   "metadata": {},
   "outputs": [],
   "source": []
  },
  {
   "cell_type": "code",
   "execution_count": null,
   "metadata": {},
   "outputs": [],
   "source": []
  },
  {
   "cell_type": "markdown",
   "metadata": {},
   "source": [
    "# 2.1"
   ]
  },
  {
   "cell_type": "code",
   "execution_count": 6,
   "metadata": {},
   "outputs": [],
   "source": [
    "def long_words(lt1):\n",
    "    i=0\n",
    "    for j in lt1:\n",
    "        lt1[i]=len(j)\n",
    "        i+=1\n",
    "    return lt1"
   ]
  },
  {
   "cell_type": "code",
   "execution_count": 7,
   "metadata": {},
   "outputs": [
    {
     "name": "stdout",
     "output_type": "stream",
     "text": [
      "[3, 6, 2, 7, 5, 6, 8, 5, 7, 8, 7, 10]\n"
     ]
    }
   ],
   "source": [
    "lt=['AAA','BBBBBB','CC','DDDDDDD','RRRRR','DFRTGG','SASDFGGH','RDFGT','QASDFGT','DFGHGFDG','QWEFFGF','WEFRGCFVGB']\n",
    "lt=long_words(lt)\n",
    "print(lt)"
   ]
  },
  {
   "cell_type": "code",
   "execution_count": null,
   "metadata": {},
   "outputs": [],
   "source": []
  },
  {
   "cell_type": "code",
   "execution_count": null,
   "metadata": {},
   "outputs": [],
   "source": []
  },
  {
   "cell_type": "markdown",
   "metadata": {},
   "source": [
    "# 2.2"
   ]
  },
  {
   "cell_type": "code",
   "execution_count": 8,
   "metadata": {},
   "outputs": [],
   "source": [
    "def vowel_Check(ch):\n",
    "    if (ch=='A') | (ch=='a') | (ch=='E') | (ch=='e') | (ch=='i') | (ch=='I') | (ch=='o') | (ch=='O') | (ch=='U') | (ch=='u'):\n",
    "        return True\n",
    "    else:\n",
    "        return False"
   ]
  },
  {
   "cell_type": "code",
   "execution_count": 9,
   "metadata": {
    "scrolled": true
   },
   "outputs": [
    {
     "name": "stdout",
     "output_type": "stream",
     "text": [
      "Enter a String: a\n",
      "True\n"
     ]
    }
   ],
   "source": [
    "str1=input('Enter a String: ')[0]\n",
    "print(vowel_Check(str1))"
   ]
  },
  {
   "cell_type": "code",
   "execution_count": null,
   "metadata": {},
   "outputs": [],
   "source": []
  }
 ],
 "metadata": {
  "kernelspec": {
   "display_name": "Python 3",
   "language": "python",
   "name": "python3"
  },
  "language_info": {
   "codemirror_mode": {
    "name": "ipython",
    "version": 3
   },
   "file_extension": ".py",
   "mimetype": "text/x-python",
   "name": "python",
   "nbconvert_exporter": "python",
   "pygments_lexer": "ipython3",
   "version": "3.8.5"
  }
 },
 "nbformat": 4,
 "nbformat_minor": 4
}
